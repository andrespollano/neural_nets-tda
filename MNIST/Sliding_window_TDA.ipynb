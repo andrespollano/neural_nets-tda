{
  "nbformat": 4,
  "nbformat_minor": 0,
  "metadata": {
    "colab": {
      "provenance": [],
      "collapsed_sections": [
        "xG524MO6OxYg"
      ],
      "authorship_tag": "ABX9TyMeYYgUgenx8RvDuGsLkS1n",
      "include_colab_link": true
    },
    "kernelspec": {
      "name": "python3",
      "display_name": "Python 3"
    },
    "language_info": {
      "name": "python"
    }
  },
  "cells": [
    {
      "cell_type": "markdown",
      "metadata": {
        "id": "view-in-github",
        "colab_type": "text"
      },
      "source": [
        "<a href=\"https://colab.research.google.com/github/andrespollano/neural_nets-tda/blob/main/MNIST/Sliding_window_TDA.ipynb\" target=\"_parent\"><img src=\"https://colab.research.google.com/assets/colab-badge.svg\" alt=\"Open In Colab\"/></a>"
      ]
    },
    {
      "cell_type": "code",
      "execution_count": null,
      "metadata": {
        "id": "cTRJqVAUfutf"
      },
      "outputs": [],
      "source": [
        "!pip install giotto-tda\n",
        "!pip install umap-learn\n",
        "!pip install umap-learn[plot]\n",
        "!pip install tensorflow\n",
        "!pip install keras"
      ]
    },
    {
      "cell_type": "code",
      "source": [
        "import numpy as np\n",
        "import pandas as pd\n",
        "import gtda.diagrams as diag\n",
        "from gtda.diagrams import Scaler, Filtering, PersistenceEntropy, BettiCurve, PairwiseDistance\n",
        "from gtda.homology import VietorisRipsPersistence\n",
        "import gtda.graphs as gr\n",
        "from gtda.pipeline import Pipeline\n",
        "from gtda.plotting import plot_point_cloud, plot_heatmap\n",
        "from gtda.graphs import KNeighborsGraph, GraphGeodesicDistance\n",
        "from gtda.mapper import (\n",
        "    CubicalCover,\n",
        "    OneDimensionalCover,\n",
        "    make_mapper_pipeline,\n",
        "    Projection,\n",
        "    plot_static_mapper_graph,\n",
        "    plot_interactive_mapper_graph)\n",
        "from gtda.mapper import Eccentricity, Entropy\n",
        "\n",
        "import umap.umap_ as umap\n",
        "\n",
        "from sklearn.cluster import DBSCAN\n",
        "from sklearn.metrics import pairwise_distances\n",
        "from sklearn.decomposition import PCA\n",
        "from sklearn.preprocessing import MinMaxScaler\n",
        "\n",
        "import matplotlib.pyplot as plt\n",
        "import plotly.express as px\n",
        "from plotly.subplots import make_subplots\n",
        "import plotly.graph_objects as go\n",
        "import plotly.figure_factory as ff"
      ],
      "metadata": {
        "id": "ifxQPeyVgAkk"
      },
      "execution_count": 2,
      "outputs": []
    },
    {
      "cell_type": "markdown",
      "source": [
        "# Import datasets"
      ],
      "metadata": {
        "id": "h-oWNZu5DpFP"
      }
    },
    {
      "cell_type": "code",
      "source": [
        "#import scipy.io\n",
        "from math import ceil\n",
        "from keras.preprocessing.image import ImageDataGenerator\n",
        "from sklearn.model_selection import train_test_split\n",
        "\n",
        "from keras.datasets import mnist, cifar10, fashion_mnist\n",
        "import tensorflow_datasets as tfds"
      ],
      "metadata": {
        "id": "jGjnO_hOrQLt"
      },
      "execution_count": 3,
      "outputs": []
    },
    {
      "cell_type": "code",
      "source": [
        "# Convert emnist dataset to numpy arrays\n",
        "def dataset_to_array(dataset):\n",
        "    \"\"\"\n",
        "    Converts a tf.data.Dataset of images to a numpy array.\n",
        "    \"\"\"\n",
        "    images = []\n",
        "\n",
        "    # Iterate over the dataset\n",
        "    for example in tfds.as_dataframe(dataset).to_dict('records'):\n",
        "        # Extract the image and append it to the list\n",
        "        images.append(example['image'])\n",
        "\n",
        "    # Stack all images into a single numpy array and return it\n",
        "    return np.stack(images)\n",
        "\n",
        "# Extract labels from emnist dataset\n",
        "def extract_labels(dataset):\n",
        "    \"\"\"\n",
        "    Extracts labels from a tf.data.Dataset object and returns them as a numpy array.\n",
        "    \"\"\"\n",
        "    labels = []\n",
        "    for example in dataset:\n",
        "        labels.append(example['label'])\n",
        "\n",
        "    # Convert the list of labels to a numpy array and return it\n",
        "    return np.array(labels)\n",
        "\n",
        "def normalize_datapoints(x, factor):\n",
        "  x = x.astype('float32') / factor\n",
        "  return x\n",
        "\n",
        "def random_shuffle(x, y):\n",
        "  assert len(x) == len(y)\n",
        "  p = np.random.permutation(len(x))\n",
        "  return x[p], y[p]\n",
        "\n",
        "def select_random_samples(data, n):\n",
        "    # Get the total number of samples\n",
        "    total_samples = data.shape[0]\n",
        "    # Generate n random indices without replacement\n",
        "    random_indices = np.random.choice(total_samples, n, replace=False)\n",
        "    # Select the samples corresponding to the random indices\n",
        "    random_samples = data[random_indices]\n",
        "\n",
        "    return random_samples\n",
        "\n",
        "# Create validation set\n",
        "def three_way_split(x_train, y_train, x_test, y_test, shuffle=True, val_size=None, test_size=None):\n",
        "\n",
        "  x = np.append(x_train, x_test, axis=0)\n",
        "  y = np.append(y_train, y_test, axis=0)\n",
        "\n",
        "  if shuffle:\n",
        "    x, y = random_shuffle(x, y)\n",
        "\n",
        "  if test_size is None:\n",
        "    test_size = len(x_test)\n",
        "  if val_size is None:\n",
        "    val_size = len(x_test)\n",
        "\n",
        "  x_train_spl, x_test, y_train_spl, y_test = train_test_split(x, y, test_size=test_size)\n",
        "  if val_size > 0:\n",
        "    x_train, x_val, y_train, y_val = train_test_split(x_train_spl, y_train_spl, test_size=val_size)\n",
        "  else:\n",
        "    x_train, y_train = x_train_spl, y_train_spl\n",
        "    x_val, y_val = np.empty(x_train.shape), np.empty(y_train.shape)\n",
        "\n",
        "  return (x_train, y_train), (x_val, y_val), (x_test, y_test)\n",
        "\n",
        "def import_dataset(dataset, shuffle=True, val_size=None, test_size=None):\n",
        "  x_train, y_train, x_test, y_test = None, None, None, None\n",
        "\n",
        "  if dataset == 'mnist':\n",
        "    (x_train, y_train), (x_test, y_test) = mnist.load_data()\n",
        "    x_train = x_train.reshape(len(x_train), 28, 28, 1)\n",
        "    x_test = x_test.reshape(len(x_test), 28, 28, 1)\n",
        "  elif dataset == 'cifar10':\n",
        "    (x_train, y_train), (x_test, y_test) = cifar10.load_data()\n",
        "\n",
        "  elif dataset == 'fashion_mnist':\n",
        "    (x_train, y_train), (x_test, y_test) = fashion_mnist.load_data()\n",
        "    x_train = x_train.reshape(len(x_train), 28, 28, 1)\n",
        "    x_test = x_test.reshape(len(x_test), 28, 28, 1)\n",
        "\n",
        "  elif dataset == 'emnist':\n",
        "    emnist_data = tfds.load('emnist/letters')\n",
        "    x_train, x_test = emnist_data['train'], emnist_data['test']\n",
        "    # Extract labels for the training and test datasets\n",
        "    y_train = extract_labels(x_train)\n",
        "    y_test = extract_labels(x_test)\n",
        "    # Convert the train and test datasets to numpy arrays\n",
        "    x_train = dataset_to_array(x_train)\n",
        "    x_test = dataset_to_array(x_test)\n",
        "\n",
        "  x_train = normalize_datapoints(x_train, 255. )\n",
        "  x_test = normalize_datapoints(x_test, 255. )\n",
        "\n",
        "  (x_train, y_train), (x_val, y_val), (x_test, y_test) = three_way_split(x_train, y_train, x_test, y_test, shuffle, val_size, test_size)\n",
        "\n",
        "  return (x_train, y_train), (x_val, y_val), (x_test, y_test)\n",
        "\n",
        "# Perform image perturbations.\n",
        "def image_generator(x, orig_dims, rot_range, width_range, height_range, shear_range, zoom_range, horizontal_flip, vertical_flip, delta=1.0):\n",
        "    indices = np.random.choice(x.shape[0], ceil(x.shape[0] * delta), replace=False)\n",
        "    datagen = ImageDataGenerator(rotation_range=rot_range,\n",
        "                                 width_shift_range=width_range,\n",
        "                                 height_shift_range=height_range,\n",
        "                                 shear_range=shear_range,\n",
        "                                 zoom_range=zoom_range,\n",
        "                                 horizontal_flip=horizontal_flip,\n",
        "                                 vertical_flip=vertical_flip,\n",
        "                                 fill_mode=\"nearest\")\n",
        "    x_mod = x[indices, :]\n",
        "    for idx in range(len(x_mod)):\n",
        "        img_sample = x_mod[idx, :].reshape(orig_dims)\n",
        "        mod_img_sample = datagen.flow(np.array([img_sample]), batch_size=1)[0]\n",
        "        x_mod[idx, :] = mod_img_sample.reshape(np.prod(mod_img_sample.shape))\n",
        "    x[indices, :] = x_mod\n",
        "\n",
        "    return x, indices\n",
        "\n",
        "def apply_shift(X_te_orig, y_te_orig, shift, orig_dims, dataset):\n",
        "\n",
        "  orig_dims = X_te_orig.shape[1:]\n",
        "\n",
        "  # Reshape to matrix form\n",
        "  X_te_orig = X_te_orig.reshape((len(X_te_orig), np.prod(X_te_orig.shape[1:])))\n",
        "  y_te_orig = y_te_orig.reshape(len(y_te_orig))\n",
        "\n",
        "  X_te_1 = None\n",
        "  y_te_1 = None\n",
        "\n",
        "  if shift == 'small_img_shift_0.1':\n",
        "    print('Small image shift')\n",
        "    X_te_1, _ = image_generator(X_te_orig, orig_dims, 10, 0.05, 0.05, 0.1, 0.1, False, False, delta=0.1)\n",
        "    y_te_1 = y_te_orig.copy()\n",
        "  elif shift == 'small_img_shift_0.5':\n",
        "    print('Small image shift')\n",
        "    X_te_1, _ = image_generator(X_te_orig, orig_dims, 10, 0.05, 0.05, 0.1, 0.1, False, False, delta=0.5)\n",
        "    y_te_1 = y_te_orig.copy()\n",
        "  elif shift == 'small_img_shift_1.0':\n",
        "    print('Small image shift')\n",
        "    X_te_1, _ = image_generator(X_te_orig, orig_dims, 10, 0.05, 0.05, 0.1, 0.1, False, False, delta=1.0)\n",
        "    y_te_1 = y_te_orig.copy()\n",
        "  elif shift == 'medium_img_shift_0.1':\n",
        "    print('Medium image shift')\n",
        "    X_te_1, _ = image_generator(X_te_orig, orig_dims, 40, 0.2, 0.2, 0.2, 0.2, True, False, delta=0.1)\n",
        "    y_te_1 = y_te_orig.copy()\n",
        "  elif shift == 'medium_img_shift_0.5':\n",
        "    print('Medium image shift')\n",
        "    X_te_1, _ = image_generator(X_te_orig, orig_dims, 40, 0.2, 0.2, 0.2, 0.2, True, False, delta=0.5)\n",
        "    y_te_1 = y_te_orig.copy()\n",
        "  elif shift == 'medium_img_shift_1.0':\n",
        "    print('Medium image shift')\n",
        "    X_te_1, _ = image_generator(X_te_orig, orig_dims, 40, 0.2, 0.2, 0.2, 0.2, True, False, delta=1.0)\n",
        "    y_te_1 = y_te_orig.copy()\n",
        "  elif shift == 'large_img_shift_0.1':\n",
        "    print('Large image shift')\n",
        "    X_te_1, _ = image_generator(X_te_orig, orig_dims, 90, 0.4, 0.4, 0.3, 0.4, True, True, delta=0.1)\n",
        "    y_te_1 = y_te_orig.copy()\n",
        "  elif shift == 'large_img_shift_0.5':\n",
        "    print('Large image shift')\n",
        "    X_te_1, _ = image_generator(X_te_orig, orig_dims, 90, 0.4, 0.4, 0.3, 0.4, True, True, delta=0.5)\n",
        "    y_te_1 = y_te_orig.copy()\n",
        "  elif shift == 'large_img_shift_1.0':\n",
        "    print('Large image shift')\n",
        "    X_te_1, _ = image_generator(X_te_orig, orig_dims, 90, 0.4, 0.4, 0.3, 0.4, True, True, delta=1.0)\n",
        "    y_te_1 = y_te_orig.copy()\n",
        "\n",
        "  return (X_te_1, y_te_1)"
      ],
      "metadata": {
        "id": "vwDpfjxcrVZ0"
      },
      "execution_count": 4,
      "outputs": []
    },
    {
      "cell_type": "code",
      "source": [
        "# MNIST dataset\n",
        "val_size = 20000\n",
        "test_size = 20000\n",
        "(x_train_mnist, y_train_mnist), (x_val_mnist, y_val_mnist), (x_test_mnist, y_test_mnist) = import_dataset('mnist', val_size=val_size, test_size=test_size)\n",
        "print(f'Train size: {len(x_train_mnist)}')\n",
        "print(f'Validation size: {len(x_val_mnist)}')\n",
        "print(f'Test size: {len(x_test_mnist)}')"
      ],
      "metadata": {
        "colab": {
          "base_uri": "https://localhost:8080/"
        },
        "id": "xOqGM0_NKFuO",
        "outputId": "5d5a35df-f1de-431b-889a-4798df830691"
      },
      "execution_count": 5,
      "outputs": [
        {
          "output_type": "stream",
          "name": "stdout",
          "text": [
            "Downloading data from https://storage.googleapis.com/tensorflow/tf-keras-datasets/mnist.npz\n",
            "11490434/11490434 [==============================] - 0s 0us/step\n",
            "Train size: 30000\n",
            "Validation size: 20000\n",
            "Test size: 20000\n"
          ]
        }
      ]
    },
    {
      "cell_type": "code",
      "source": [
        "# Fashion MNIST dataset\n",
        "val_size = 20000\n",
        "test_size = 40000\n",
        "(x_train_fmnist, y_train_fmnist), (x_val_fmnist, y_val_fmnist), (x_test_fmnist, y_test_fmnist) = import_dataset('fashion_mnist', val_size=val_size, test_size=test_size)\n",
        "print(f'Train size: {len(x_train_fmnist)}')\n",
        "#print(f'Validation size: {len(x_val_fmnist)}')\n",
        "print(f'Test size: {len(x_test_fmnist)}')"
      ],
      "metadata": {
        "colab": {
          "base_uri": "https://localhost:8080/"
        },
        "id": "3vUDSapoMtXn",
        "outputId": "0f6aebfc-e75f-4d92-fc2b-da29d1625ef8"
      },
      "execution_count": 6,
      "outputs": [
        {
          "output_type": "stream",
          "name": "stdout",
          "text": [
            "Downloading data from https://storage.googleapis.com/tensorflow/tf-keras-datasets/train-labels-idx1-ubyte.gz\n",
            "29515/29515 [==============================] - 0s 0us/step\n",
            "Downloading data from https://storage.googleapis.com/tensorflow/tf-keras-datasets/train-images-idx3-ubyte.gz\n",
            "26421880/26421880 [==============================] - 0s 0us/step\n",
            "Downloading data from https://storage.googleapis.com/tensorflow/tf-keras-datasets/t10k-labels-idx1-ubyte.gz\n",
            "5148/5148 [==============================] - 0s 0us/step\n",
            "Downloading data from https://storage.googleapis.com/tensorflow/tf-keras-datasets/t10k-images-idx3-ubyte.gz\n",
            "4422102/4422102 [==============================] - 0s 0us/step\n",
            "Train size: 10000\n",
            "Test size: 40000\n"
          ]
        }
      ]
    },
    {
      "cell_type": "code",
      "source": [
        "# EMNIST dataset\n",
        "val_size = 1000\n",
        "test_size = 60000\n",
        "(x_train_emnist, y_train_emnist), (x_val_emnist, y_val_emnist), (x_test_emnist, y_test_emnist) = import_dataset('emnist', val_size=val_size, test_size=test_size)\n",
        "print(f'Train size: {len(x_train_emnist)}')\n",
        "#print(f'Validation size: {len(x_val_fmnist)}')\n",
        "print(f'Test size: {len(x_test_emnist)}')"
      ],
      "metadata": {
        "id": "v35qakiOa14j"
      },
      "execution_count": null,
      "outputs": []
    },
    {
      "cell_type": "code",
      "source": [
        "# Generate datasets with a proportion (delta) of OOD samples\n",
        "n_samples = 5000\n",
        "deltas = [0.01, 0.05, 0.1, 0.2, 0.5] # proportion of OOD samples\n",
        "\n",
        "ood_datasets = {}\n",
        "\n",
        "for delta in deltas:\n",
        "  mnist_prop = 1 - delta\n",
        "  n_mnist = n_samples * mnist_prop\n",
        "  n_ood = n_samples * delta\n",
        "\n",
        "  mnist_samples = select_random_samples(x_test_mnist, int(n_mnist))\n",
        "  fmnist_samples = select_random_samples(x_test_fmnist, int(n_ood/2))\n",
        "  emnist_samples = select_random_samples(x_test_emnist, int(n_ood/2))\n",
        "\n",
        "  combined_array = np.concatenate([mnist_samples, fmnist_samples, emnist_samples], axis=0)\n",
        "  np.random.shuffle(combined_array)\n",
        "\n",
        "  ood_datasets[f'mnist_{delta}'] = combined_array\n"
      ],
      "metadata": {
        "id": "yYNmnjmxSxuY"
      },
      "execution_count": null,
      "outputs": []
    },
    {
      "cell_type": "markdown",
      "source": [
        "# Train Model"
      ],
      "metadata": {
        "id": "xG524MO6OxYg"
      }
    },
    {
      "cell_type": "code",
      "source": [
        "from tensorflow.keras.models import Model\n",
        "from tensorflow.keras.layers import Input, Dense, Dropout, Flatten\n",
        "from tensorflow.keras.layers import Conv2D, MaxPooling2D\n",
        "from tensorflow.keras.utils import to_categorical"
      ],
      "metadata": {
        "id": "_Z8VeMa6O0SM"
      },
      "execution_count": 7,
      "outputs": []
    },
    {
      "cell_type": "code",
      "source": [
        "# Preprocess the data\n",
        "n_classes = len(np.unique(y_train_mnist))\n",
        "\n",
        "#x_train_mnist = x_train_mnist.reshape(x_train_mnist.shape[0], 28, 28, 1).astype('float32') / 255\n",
        "#x_val_mnist = x_test_mnist.reshape(x_val_mnist.shape[0], 28, 28, 1).astype('float32') / 255\n",
        "\n",
        "y_train_mnist = to_categorical(y_train_mnist, n_classes)\n",
        "y_val_mnist = to_categorical(y_val_mnist, n_classes)\n",
        "\n",
        "# Define the model\n",
        "inputs = Input(shape=(28, 28, 1))\n",
        "\n",
        "x = Conv2D(32, kernel_size=(3, 3), activation='relu')(inputs)\n",
        "x = MaxPooling2D(pool_size=(2, 2))(x)\n",
        "x = Conv2D(64, (3, 3), activation='relu')(x)\n",
        "x = MaxPooling2D(pool_size=(2, 2))(x)\n",
        "x = Dropout(0.25)(x)\n",
        "x = Flatten()(x)\n",
        "\n",
        "x = Dense(128, activation='relu')(x)\n",
        "last_hidden_layer_output = Dropout(0.5)(x)\n",
        "predictions = Dense(10, activation='softmax')(last_hidden_layer_output)\n",
        "\n",
        "model = Model(inputs=inputs, outputs=predictions)\n",
        "\n",
        "# Define a model that outputs the last hidden layer\n",
        "hidden_model = Model(inputs=model.input, outputs=last_hidden_layer_output)"
      ],
      "metadata": {
        "id": "XXeIybNzPhqt"
      },
      "execution_count": 8,
      "outputs": []
    },
    {
      "cell_type": "code",
      "source": [
        "model_weights_file = 'model_weights (1).h5'\n",
        "hidden_model_weights_file = 'hidden_model_weights (1).h5'\n",
        "\n",
        "try:\n",
        "  # load weights if file exist\n",
        "  model.load_weights(model_weights_file)\n",
        "  hidden_model.load_weights(hidden_model_weights_file)\n",
        "\n",
        "except FileNotFoundError:\n",
        "  # Compile the model\n",
        "  model.compile(loss='categorical_crossentropy', optimizer='adam', metrics=['accuracy'])\n",
        "\n",
        "  # Train the model\n",
        "  model.fit(x_train_mnist, y_train_mnist, batch_size=128, epochs=10, verbose=1, validation_data=(x_val_mnist, y_val_mnist))\n",
        "\n",
        "  # Save model weights\n",
        "  model.save_weights(model_weights_file)\n",
        "\n",
        "  # Save weights for the hidden_model\n",
        "  hidden_model.save_weights(hidden_model_weights_file)"
      ],
      "metadata": {
        "id": "E2cQgP7aTGS6"
      },
      "execution_count": 9,
      "outputs": []
    },
    {
      "cell_type": "markdown",
      "source": [
        "# Generate hiddel layer outputs"
      ],
      "metadata": {
        "id": "erFvFskaVXHp"
      }
    },
    {
      "cell_type": "code",
      "source": [
        "# Get last hidden layer representation for MNIST and Fashion-MNIST\n",
        "hidden_outputs_mnist = hidden_model.predict(x_test_mnist)\n",
        "hidden_outputs_fashion = hidden_model.predict(x_test_fmnist)\n",
        "#hidden_outputs_emnist = hidden_model.predict(x_test_emnist)"
      ],
      "metadata": {
        "colab": {
          "base_uri": "https://localhost:8080/"
        },
        "id": "sOjRwKpJu_Zh",
        "outputId": "54a61d77-d13a-4c71-b19a-eb949047107a"
      },
      "execution_count": 10,
      "outputs": [
        {
          "output_type": "stream",
          "name": "stdout",
          "text": [
            "625/625 [==============================] - 10s 16ms/step\n",
            "1250/1250 [==============================] - 16s 13ms/step\n"
          ]
        }
      ]
    },
    {
      "cell_type": "code",
      "source": [
        "y_test_mnist.shape"
      ],
      "metadata": {
        "colab": {
          "base_uri": "https://localhost:8080/"
        },
        "id": "R3xMcLf02lzc",
        "outputId": "4e702331-735d-4e9b-8fe1-a746d4127bde"
      },
      "execution_count": 29,
      "outputs": [
        {
          "output_type": "execute_result",
          "data": {
            "text/plain": [
              "(20000,)"
            ]
          },
          "metadata": {},
          "execution_count": 29
        }
      ]
    },
    {
      "cell_type": "code",
      "source": [
        "# Generate last hidden layer represendation for distorted MNIST data\n",
        "datasets = {'mnist' : hidden_outputs_mnist, 'fmnist': hidden_outputs_fashion, 'emnist': hidden_outputs_emnist}\n",
        "\n",
        "for ood_name, ood_dataset in ood_datasets.items():\n",
        "  hidden_outputs = hidden_model.predict(ood_dataset)\n",
        "  datasets[ood_name] = hidden_outputs\n",
        "\n",
        "for name, hidden_outputs in datasets.items():\n",
        "    print(name, hidden_outputs.shape)\n",
        "\n",
        "#hidden_outputs_mnist.shape, hidden_outputs_fashion.shape, hidden_outputs_emnist.shape"
      ],
      "metadata": {
        "id": "u0V9lmCqVayu"
      },
      "execution_count": null,
      "outputs": []
    },
    {
      "cell_type": "code",
      "source": [
        "y_test_mnist"
      ],
      "metadata": {
        "colab": {
          "base_uri": "https://localhost:8080/"
        },
        "id": "5BIBYBTDyCIm",
        "outputId": "1d9c0a9a-cb92-4d53-8c1b-5fe9c13465c1"
      },
      "execution_count": 11,
      "outputs": [
        {
          "output_type": "execute_result",
          "data": {
            "text/plain": [
              "array([4, 2, 9, ..., 1, 9, 9], dtype=uint8)"
            ]
          },
          "metadata": {},
          "execution_count": 11
        }
      ]
    },
    {
      "cell_type": "code",
      "source": [
        "import numpy as np\n",
        "\n",
        "# Generate sliding windows for 0's and 1's\n",
        "n_examples = 200\n",
        "\n",
        "zero_indices = np.flatnonzero(y_test_mnist == 0)[:n_examples]\n",
        "one_indices = np.flatnonzero(y_test_mnist == 1)[:n_examples]\n",
        "\n",
        "selected_indices = np.concatenate([zero_indices, one_indices])\n",
        "\n",
        "# Extract the corresponding feature vectors and labels\n",
        "selected_features = hidden_outputs_mnist[selected_indices]\n",
        "selected_labels = y_test_mnist[selected_indices]\n",
        "selected_labels.shape"
      ],
      "metadata": {
        "colab": {
          "base_uri": "https://localhost:8080/"
        },
        "id": "m2PrKL3kvRuR",
        "outputId": "e03b738b-b88f-4b21-d8e7-14e96b5dd41d"
      },
      "execution_count": 46,
      "outputs": [
        {
          "output_type": "execute_result",
          "data": {
            "text/plain": [
              "(400,)"
            ]
          },
          "metadata": {},
          "execution_count": 46
        }
      ]
    },
    {
      "cell_type": "code",
      "source": [
        "# Generate point cloud\n",
        "def sliding_window_point_cloud(vector, window_size, step_size=1):\n",
        "    # Check that the window size is smaller than the vector size\n",
        "    if window_size > len(vector):\n",
        "        raise ValueError(\"Window size must be smaller than vector size.\")\n",
        "\n",
        "    # Slide the window across the vector, extracting subvectors\n",
        "    point_cloud = [vector[i:i+window_size] for i in range(0, len(vector) - window_size + 1, step_size)]\n",
        "\n",
        "    return np.array(point_cloud)\n",
        "\n",
        "#point_cloud = sliding_window_point_cloud(selected_features[0], 10)\n",
        "#point_cloud.shape"
      ],
      "metadata": {
        "colab": {
          "base_uri": "https://localhost:8080/"
        },
        "id": "guA3eAlI5vEs",
        "outputId": "c70c9c91-bc48-4424-aaf6-e1b772c21110"
      },
      "execution_count": 36,
      "outputs": [
        {
          "output_type": "execute_result",
          "data": {
            "text/plain": [
              "(119, 10)"
            ]
          },
          "metadata": {},
          "execution_count": 36
        }
      ]
    },
    {
      "cell_type": "markdown",
      "source": [
        "# Generate topological features"
      ],
      "metadata": {
        "id": "_AiBueZ0WGcT"
      }
    },
    {
      "cell_type": "code",
      "source": [
        "from gtda.homology import VietorisRipsPersistence\n",
        "from gtda.diagrams import Amplitude, PersistenceEntropy\n",
        "from sklearn.pipeline import make_pipeline, make_union\n",
        "\n",
        "homology_dimensions = [0,1,2,3]\n",
        "# Select a variety of metrics to calculate amplitudes\n",
        "amplitude_metrics = [\"bottleneck\", \"wasserstein\"]\n",
        "\n",
        "def generate_topological_features(hidden_layer_data):\n",
        "  # Generate diagrams\n",
        "  persistence = VietorisRipsPersistence(\n",
        "      metric=\"euclidean\",\n",
        "      homology_dimensions=homology_dimensions,\n",
        "      collapse_edges=True,\n",
        "  )\n",
        "\n",
        "  diagrams = persistence.fit_transform(hidden_layer_data)\n",
        "\n",
        "  metrics = [\n",
        "    {\"metric\": metric}\n",
        "    for metric in amplitude_metrics\n",
        "  ]\n",
        "\n",
        "  # Generate features\n",
        "  feature_union = make_union(\n",
        "      *[PersistenceEntropy(nan_fill_value=-1)]\n",
        "      + [Amplitude(**metric, n_jobs=-1) for metric in metrics]\n",
        "  )\n",
        "\n",
        "  tda_features = feature_union.fit_transform(diagrams)\n",
        "\n",
        "  # print(f' {tda_features.shape[1]} features created for {tda_features.shape[0]} point cloud')\n",
        "\n",
        "  return tda_features\n",
        "\n",
        "def generate_feature_names():\n",
        "  # Names of the persistence entropy features\n",
        "  persistence_entropy_feature_names = [f'persistence_entropy_dim_{dim}' for dim in homology_dimensions]\n",
        "\n",
        "  # Names of the amplitude features\n",
        "  amplitude_feature_names = [f'amplitude_{metric}_dim_{dim}' for metric in amplitude_metrics for dim in homology_dimensions]\n",
        "\n",
        "  # Combining all feature names\n",
        "  feature_names = persistence_entropy_feature_names + amplitude_feature_names\n",
        "\n",
        "  return feature_names"
      ],
      "metadata": {
        "id": "sUTtVXbUWLQa"
      },
      "execution_count": 33,
      "outputs": []
    },
    {
      "cell_type": "code",
      "source": [
        "def split_data(data, chunk_size):\n",
        "    # Calculate the number of chunks\n",
        "    n_chunks = len(data) // chunk_size\n",
        "\n",
        "    # Split the data into chunks of size n, and discard the last chunk if the array size is not divisible by n\n",
        "    chunks = [data[i * chunk_size : (i + 1) * chunk_size] for i in range(n_chunks)]\n",
        "\n",
        "    return chunks"
      ],
      "metadata": {
        "id": "WDpB-Z2wytc4"
      },
      "execution_count": null,
      "outputs": []
    },
    {
      "cell_type": "code",
      "source": [
        "# For each instance, generate sliding window point cloud (), generate top features, append\n",
        "window_size = 10\n",
        "columns = generate_feature_names()\n",
        "point_could_features = pd.DataFrame(columns=columns)\n",
        "point_could_labels = pd.DataFrame(columns=['dataset'])\n",
        "\n",
        "for idx, instance in enumerate(selected_features):\n",
        "  point_cloud = sliding_window_point_cloud(instance, window_size)\n",
        "  point_cloud = point_cloud.reshape(1, *point_cloud.shape)\n",
        "  tda_features = generate_topological_features(point_cloud) # array (1,9)\n",
        "  point_could_features.loc[idx] = tda_features[0] # Append instance\n",
        "  point_could_labels.loc[idx] = selected_labels[idx]\n",
        "\n",
        "point_could_features.shape"
      ],
      "metadata": {
        "colab": {
          "base_uri": "https://localhost:8080/"
        },
        "id": "C84KrwVr4kHV",
        "outputId": "5124541b-ed6a-426c-ee03-4d73f0da105e"
      },
      "execution_count": 61,
      "outputs": [
        {
          "output_type": "execute_result",
          "data": {
            "text/plain": [
              "(400, 12)"
            ]
          },
          "metadata": {},
          "execution_count": 61
        }
      ]
    },
    {
      "cell_type": "markdown",
      "source": [
        "# Cluster and Visualise"
      ],
      "metadata": {
        "id": "kp70zmI7fjhU"
      }
    },
    {
      "cell_type": "code",
      "source": [
        "tda_features_file = 'tda_features (2).pkl'\n",
        "tda_labels_file = 'tda_labels (1).pkl'\n",
        "\n",
        "point_could_features = pd.read_pickle(tda_features_file)\n",
        "point_could_labels = pd.read_pickle(tda_labels_file)"
      ],
      "metadata": {
        "id": "4_l3cD_vsATB"
      },
      "execution_count": null,
      "outputs": []
    },
    {
      "cell_type": "code",
      "source": [
        "point_could_features"
      ],
      "metadata": {
        "colab": {
          "base_uri": "https://localhost:8080/",
          "height": 427
        },
        "id": "JTB_jfRwAb3Z",
        "outputId": "94a91490-22f6-456d-9d04-71857ef97117"
      },
      "execution_count": 40,
      "outputs": [
        {
          "output_type": "execute_result",
          "data": {
            "text/plain": [
              "   persistence_entropy_dim_0  persistence_entropy_dim_1  \\\n",
              "0                   6.711593                   5.512788   \n",
              "1                   6.741337                   4.574995   \n",
              "2                   6.745290                   5.201508   \n",
              "3                   6.639865                   3.478526   \n",
              "4                   6.793562                   5.631909   \n",
              "5                   6.666579                   5.068598   \n",
              "6                   6.789672                   5.261443   \n",
              "7                   6.750670                   5.641334   \n",
              "8                   6.672338                   5.329178   \n",
              "9                   6.783318                   5.123027   \n",
              "\n",
              "   persistence_entropy_dim_2  persistence_entropy_dim_3  \\\n",
              "0                   4.282788                   0.000000   \n",
              "1                   0.872221                  -1.000000   \n",
              "2                   2.566346                  -1.000000   \n",
              "3                  -1.000000                  -1.000000   \n",
              "4                   3.786402                   1.709521   \n",
              "5                   3.516668                   1.426107   \n",
              "6                   2.783235                   0.000000   \n",
              "7                   2.524181                   0.000000   \n",
              "8                   3.945927                   2.339347   \n",
              "9                   2.472767                   0.000000   \n",
              "\n",
              "   amplitude_bottleneck_dim_0  amplitude_bottleneck_dim_1  \\\n",
              "0                    2.455447                    0.449714   \n",
              "1                    2.803193                    0.453127   \n",
              "2                    2.390182                    0.444438   \n",
              "3                    1.700425                    0.515287   \n",
              "4                    2.368118                    0.802450   \n",
              "5                    1.798618                    0.354035   \n",
              "6                    1.383395                    0.301052   \n",
              "7                    1.681730                    0.243610   \n",
              "8                    1.866633                    0.258675   \n",
              "9                    1.581975                    0.274587   \n",
              "\n",
              "   amplitude_bottleneck_dim_2  amplitude_bottleneck_dim_3  \\\n",
              "0                    0.218969                    0.012857   \n",
              "1                    0.017013                    0.000000   \n",
              "2                    0.058967                    0.000000   \n",
              "3                    0.000000                    0.000000   \n",
              "4                    0.257750                    0.105160   \n",
              "5                    0.088949                    0.063971   \n",
              "6                    0.031842                    0.091442   \n",
              "7                    0.162983                    0.010161   \n",
              "8                    0.188514                    0.079085   \n",
              "9                    0.062111                    0.002913   \n",
              "\n",
              "   amplitude_wasserstein_dim_0  amplitude_wasserstein_dim_1  \\\n",
              "0                    14.158704                     1.608499   \n",
              "1                    14.166426                     1.306939   \n",
              "2                    14.372967                     1.100743   \n",
              "3                     9.042716                     0.930659   \n",
              "4                    16.414308                     2.198452   \n",
              "5                     9.584787                     1.027583   \n",
              "6                     8.785484                     0.773646   \n",
              "7                     9.990161                     0.788062   \n",
              "8                    10.496622                     0.946568   \n",
              "9                     9.628190                     0.874668   \n",
              "\n",
              "   amplitude_wasserstein_dim_2  amplitude_wasserstein_dim_3  \n",
              "0                     0.576789                     0.012857  \n",
              "1                     0.018413                     0.000000  \n",
              "2                     0.095895                     0.000000  \n",
              "3                     0.000000                     0.000000  \n",
              "4                     0.569783                     0.130458  \n",
              "5                     0.183282                     0.073656  \n",
              "6                     0.059448                     0.091442  \n",
              "7                     0.191594                     0.010161  \n",
              "8                     0.326120                     0.117471  \n",
              "9                     0.080559                     0.002913  "
            ],
            "text/html": [
              "\n",
              "\n",
              "  <div id=\"df-4b5d6174-9d3a-4067-9ea1-cc255c11289e\">\n",
              "    <div class=\"colab-df-container\">\n",
              "      <div>\n",
              "<style scoped>\n",
              "    .dataframe tbody tr th:only-of-type {\n",
              "        vertical-align: middle;\n",
              "    }\n",
              "\n",
              "    .dataframe tbody tr th {\n",
              "        vertical-align: top;\n",
              "    }\n",
              "\n",
              "    .dataframe thead th {\n",
              "        text-align: right;\n",
              "    }\n",
              "</style>\n",
              "<table border=\"1\" class=\"dataframe\">\n",
              "  <thead>\n",
              "    <tr style=\"text-align: right;\">\n",
              "      <th></th>\n",
              "      <th>persistence_entropy_dim_0</th>\n",
              "      <th>persistence_entropy_dim_1</th>\n",
              "      <th>persistence_entropy_dim_2</th>\n",
              "      <th>persistence_entropy_dim_3</th>\n",
              "      <th>amplitude_bottleneck_dim_0</th>\n",
              "      <th>amplitude_bottleneck_dim_1</th>\n",
              "      <th>amplitude_bottleneck_dim_2</th>\n",
              "      <th>amplitude_bottleneck_dim_3</th>\n",
              "      <th>amplitude_wasserstein_dim_0</th>\n",
              "      <th>amplitude_wasserstein_dim_1</th>\n",
              "      <th>amplitude_wasserstein_dim_2</th>\n",
              "      <th>amplitude_wasserstein_dim_3</th>\n",
              "    </tr>\n",
              "  </thead>\n",
              "  <tbody>\n",
              "    <tr>\n",
              "      <th>0</th>\n",
              "      <td>6.711593</td>\n",
              "      <td>5.512788</td>\n",
              "      <td>4.282788</td>\n",
              "      <td>0.000000</td>\n",
              "      <td>2.455447</td>\n",
              "      <td>0.449714</td>\n",
              "      <td>0.218969</td>\n",
              "      <td>0.012857</td>\n",
              "      <td>14.158704</td>\n",
              "      <td>1.608499</td>\n",
              "      <td>0.576789</td>\n",
              "      <td>0.012857</td>\n",
              "    </tr>\n",
              "    <tr>\n",
              "      <th>1</th>\n",
              "      <td>6.741337</td>\n",
              "      <td>4.574995</td>\n",
              "      <td>0.872221</td>\n",
              "      <td>-1.000000</td>\n",
              "      <td>2.803193</td>\n",
              "      <td>0.453127</td>\n",
              "      <td>0.017013</td>\n",
              "      <td>0.000000</td>\n",
              "      <td>14.166426</td>\n",
              "      <td>1.306939</td>\n",
              "      <td>0.018413</td>\n",
              "      <td>0.000000</td>\n",
              "    </tr>\n",
              "    <tr>\n",
              "      <th>2</th>\n",
              "      <td>6.745290</td>\n",
              "      <td>5.201508</td>\n",
              "      <td>2.566346</td>\n",
              "      <td>-1.000000</td>\n",
              "      <td>2.390182</td>\n",
              "      <td>0.444438</td>\n",
              "      <td>0.058967</td>\n",
              "      <td>0.000000</td>\n",
              "      <td>14.372967</td>\n",
              "      <td>1.100743</td>\n",
              "      <td>0.095895</td>\n",
              "      <td>0.000000</td>\n",
              "    </tr>\n",
              "    <tr>\n",
              "      <th>3</th>\n",
              "      <td>6.639865</td>\n",
              "      <td>3.478526</td>\n",
              "      <td>-1.000000</td>\n",
              "      <td>-1.000000</td>\n",
              "      <td>1.700425</td>\n",
              "      <td>0.515287</td>\n",
              "      <td>0.000000</td>\n",
              "      <td>0.000000</td>\n",
              "      <td>9.042716</td>\n",
              "      <td>0.930659</td>\n",
              "      <td>0.000000</td>\n",
              "      <td>0.000000</td>\n",
              "    </tr>\n",
              "    <tr>\n",
              "      <th>4</th>\n",
              "      <td>6.793562</td>\n",
              "      <td>5.631909</td>\n",
              "      <td>3.786402</td>\n",
              "      <td>1.709521</td>\n",
              "      <td>2.368118</td>\n",
              "      <td>0.802450</td>\n",
              "      <td>0.257750</td>\n",
              "      <td>0.105160</td>\n",
              "      <td>16.414308</td>\n",
              "      <td>2.198452</td>\n",
              "      <td>0.569783</td>\n",
              "      <td>0.130458</td>\n",
              "    </tr>\n",
              "    <tr>\n",
              "      <th>5</th>\n",
              "      <td>6.666579</td>\n",
              "      <td>5.068598</td>\n",
              "      <td>3.516668</td>\n",
              "      <td>1.426107</td>\n",
              "      <td>1.798618</td>\n",
              "      <td>0.354035</td>\n",
              "      <td>0.088949</td>\n",
              "      <td>0.063971</td>\n",
              "      <td>9.584787</td>\n",
              "      <td>1.027583</td>\n",
              "      <td>0.183282</td>\n",
              "      <td>0.073656</td>\n",
              "    </tr>\n",
              "    <tr>\n",
              "      <th>6</th>\n",
              "      <td>6.789672</td>\n",
              "      <td>5.261443</td>\n",
              "      <td>2.783235</td>\n",
              "      <td>0.000000</td>\n",
              "      <td>1.383395</td>\n",
              "      <td>0.301052</td>\n",
              "      <td>0.031842</td>\n",
              "      <td>0.091442</td>\n",
              "      <td>8.785484</td>\n",
              "      <td>0.773646</td>\n",
              "      <td>0.059448</td>\n",
              "      <td>0.091442</td>\n",
              "    </tr>\n",
              "    <tr>\n",
              "      <th>7</th>\n",
              "      <td>6.750670</td>\n",
              "      <td>5.641334</td>\n",
              "      <td>2.524181</td>\n",
              "      <td>0.000000</td>\n",
              "      <td>1.681730</td>\n",
              "      <td>0.243610</td>\n",
              "      <td>0.162983</td>\n",
              "      <td>0.010161</td>\n",
              "      <td>9.990161</td>\n",
              "      <td>0.788062</td>\n",
              "      <td>0.191594</td>\n",
              "      <td>0.010161</td>\n",
              "    </tr>\n",
              "    <tr>\n",
              "      <th>8</th>\n",
              "      <td>6.672338</td>\n",
              "      <td>5.329178</td>\n",
              "      <td>3.945927</td>\n",
              "      <td>2.339347</td>\n",
              "      <td>1.866633</td>\n",
              "      <td>0.258675</td>\n",
              "      <td>0.188514</td>\n",
              "      <td>0.079085</td>\n",
              "      <td>10.496622</td>\n",
              "      <td>0.946568</td>\n",
              "      <td>0.326120</td>\n",
              "      <td>0.117471</td>\n",
              "    </tr>\n",
              "    <tr>\n",
              "      <th>9</th>\n",
              "      <td>6.783318</td>\n",
              "      <td>5.123027</td>\n",
              "      <td>2.472767</td>\n",
              "      <td>0.000000</td>\n",
              "      <td>1.581975</td>\n",
              "      <td>0.274587</td>\n",
              "      <td>0.062111</td>\n",
              "      <td>0.002913</td>\n",
              "      <td>9.628190</td>\n",
              "      <td>0.874668</td>\n",
              "      <td>0.080559</td>\n",
              "      <td>0.002913</td>\n",
              "    </tr>\n",
              "  </tbody>\n",
              "</table>\n",
              "</div>\n",
              "      <button class=\"colab-df-convert\" onclick=\"convertToInteractive('df-4b5d6174-9d3a-4067-9ea1-cc255c11289e')\"\n",
              "              title=\"Convert this dataframe to an interactive table.\"\n",
              "              style=\"display:none;\">\n",
              "\n",
              "  <svg xmlns=\"http://www.w3.org/2000/svg\" height=\"24px\"viewBox=\"0 0 24 24\"\n",
              "       width=\"24px\">\n",
              "    <path d=\"M0 0h24v24H0V0z\" fill=\"none\"/>\n",
              "    <path d=\"M18.56 5.44l.94 2.06.94-2.06 2.06-.94-2.06-.94-.94-2.06-.94 2.06-2.06.94zm-11 1L8.5 8.5l.94-2.06 2.06-.94-2.06-.94L8.5 2.5l-.94 2.06-2.06.94zm10 10l.94 2.06.94-2.06 2.06-.94-2.06-.94-.94-2.06-.94 2.06-2.06.94z\"/><path d=\"M17.41 7.96l-1.37-1.37c-.4-.4-.92-.59-1.43-.59-.52 0-1.04.2-1.43.59L10.3 9.45l-7.72 7.72c-.78.78-.78 2.05 0 2.83L4 21.41c.39.39.9.59 1.41.59.51 0 1.02-.2 1.41-.59l7.78-7.78 2.81-2.81c.8-.78.8-2.07 0-2.86zM5.41 20L4 18.59l7.72-7.72 1.47 1.35L5.41 20z\"/>\n",
              "  </svg>\n",
              "      </button>\n",
              "\n",
              "\n",
              "\n",
              "    <div id=\"df-d19090ab-59a3-4334-ba95-307180714e55\">\n",
              "      <button class=\"colab-df-quickchart\" onclick=\"quickchart('df-d19090ab-59a3-4334-ba95-307180714e55')\"\n",
              "              title=\"Suggest charts.\"\n",
              "              style=\"display:none;\">\n",
              "\n",
              "<svg xmlns=\"http://www.w3.org/2000/svg\" height=\"24px\"viewBox=\"0 0 24 24\"\n",
              "     width=\"24px\">\n",
              "    <g>\n",
              "        <path d=\"M19 3H5c-1.1 0-2 .9-2 2v14c0 1.1.9 2 2 2h14c1.1 0 2-.9 2-2V5c0-1.1-.9-2-2-2zM9 17H7v-7h2v7zm4 0h-2V7h2v10zm4 0h-2v-4h2v4z\"/>\n",
              "    </g>\n",
              "</svg>\n",
              "      </button>\n",
              "    </div>\n",
              "\n",
              "<style>\n",
              "  .colab-df-quickchart {\n",
              "    background-color: #E8F0FE;\n",
              "    border: none;\n",
              "    border-radius: 50%;\n",
              "    cursor: pointer;\n",
              "    display: none;\n",
              "    fill: #1967D2;\n",
              "    height: 32px;\n",
              "    padding: 0 0 0 0;\n",
              "    width: 32px;\n",
              "  }\n",
              "\n",
              "  .colab-df-quickchart:hover {\n",
              "    background-color: #E2EBFA;\n",
              "    box-shadow: 0px 1px 2px rgba(60, 64, 67, 0.3), 0px 1px 3px 1px rgba(60, 64, 67, 0.15);\n",
              "    fill: #174EA6;\n",
              "  }\n",
              "\n",
              "  [theme=dark] .colab-df-quickchart {\n",
              "    background-color: #3B4455;\n",
              "    fill: #D2E3FC;\n",
              "  }\n",
              "\n",
              "  [theme=dark] .colab-df-quickchart:hover {\n",
              "    background-color: #434B5C;\n",
              "    box-shadow: 0px 1px 3px 1px rgba(0, 0, 0, 0.15);\n",
              "    filter: drop-shadow(0px 1px 2px rgba(0, 0, 0, 0.3));\n",
              "    fill: #FFFFFF;\n",
              "  }\n",
              "</style>\n",
              "\n",
              "    <script>\n",
              "      async function quickchart(key) {\n",
              "        const containerElement = document.querySelector('#' + key);\n",
              "        const charts = await google.colab.kernel.invokeFunction(\n",
              "            'suggestCharts', [key], {});\n",
              "      }\n",
              "    </script>\n",
              "\n",
              "      <script>\n",
              "\n",
              "function displayQuickchartButton(domScope) {\n",
              "  let quickchartButtonEl =\n",
              "    domScope.querySelector('#df-d19090ab-59a3-4334-ba95-307180714e55 button.colab-df-quickchart');\n",
              "  quickchartButtonEl.style.display =\n",
              "    google.colab.kernel.accessAllowed ? 'block' : 'none';\n",
              "}\n",
              "\n",
              "        displayQuickchartButton(document);\n",
              "      </script>\n",
              "      <style>\n",
              "    .colab-df-container {\n",
              "      display:flex;\n",
              "      flex-wrap:wrap;\n",
              "      gap: 12px;\n",
              "    }\n",
              "\n",
              "    .colab-df-convert {\n",
              "      background-color: #E8F0FE;\n",
              "      border: none;\n",
              "      border-radius: 50%;\n",
              "      cursor: pointer;\n",
              "      display: none;\n",
              "      fill: #1967D2;\n",
              "      height: 32px;\n",
              "      padding: 0 0 0 0;\n",
              "      width: 32px;\n",
              "    }\n",
              "\n",
              "    .colab-df-convert:hover {\n",
              "      background-color: #E2EBFA;\n",
              "      box-shadow: 0px 1px 2px rgba(60, 64, 67, 0.3), 0px 1px 3px 1px rgba(60, 64, 67, 0.15);\n",
              "      fill: #174EA6;\n",
              "    }\n",
              "\n",
              "    [theme=dark] .colab-df-convert {\n",
              "      background-color: #3B4455;\n",
              "      fill: #D2E3FC;\n",
              "    }\n",
              "\n",
              "    [theme=dark] .colab-df-convert:hover {\n",
              "      background-color: #434B5C;\n",
              "      box-shadow: 0px 1px 3px 1px rgba(0, 0, 0, 0.15);\n",
              "      filter: drop-shadow(0px 1px 2px rgba(0, 0, 0, 0.3));\n",
              "      fill: #FFFFFF;\n",
              "    }\n",
              "  </style>\n",
              "\n",
              "      <script>\n",
              "        const buttonEl =\n",
              "          document.querySelector('#df-4b5d6174-9d3a-4067-9ea1-cc255c11289e button.colab-df-convert');\n",
              "        buttonEl.style.display =\n",
              "          google.colab.kernel.accessAllowed ? 'block' : 'none';\n",
              "\n",
              "        async function convertToInteractive(key) {\n",
              "          const element = document.querySelector('#df-4b5d6174-9d3a-4067-9ea1-cc255c11289e');\n",
              "          const dataTable =\n",
              "            await google.colab.kernel.invokeFunction('convertToInteractive',\n",
              "                                                     [key], {});\n",
              "          if (!dataTable) return;\n",
              "\n",
              "          const docLinkHtml = 'Like what you see? Visit the ' +\n",
              "            '<a target=\"_blank\" href=https://colab.research.google.com/notebooks/data_table.ipynb>data table notebook</a>'\n",
              "            + ' to learn more about interactive tables.';\n",
              "          element.innerHTML = '';\n",
              "          dataTable['output_type'] = 'display_data';\n",
              "          await google.colab.output.renderOutput(dataTable, element);\n",
              "          const docLink = document.createElement('div');\n",
              "          docLink.innerHTML = docLinkHtml;\n",
              "          element.appendChild(docLink);\n",
              "        }\n",
              "      </script>\n",
              "    </div>\n",
              "  </div>\n"
            ]
          },
          "metadata": {},
          "execution_count": 40
        }
      ]
    },
    {
      "cell_type": "code",
      "source": [
        "point_could_labels"
      ],
      "metadata": {
        "colab": {
          "base_uri": "https://localhost:8080/",
          "height": 363
        },
        "id": "ERH9FLIZ78kP",
        "outputId": "14253bdd-5482-4d8d-f604-b632d5579bfd"
      },
      "execution_count": 41,
      "outputs": [
        {
          "output_type": "execute_result",
          "data": {
            "text/plain": [
              "   dataset\n",
              "0        0\n",
              "1        0\n",
              "2        0\n",
              "3        0\n",
              "4        0\n",
              "5        1\n",
              "6        1\n",
              "7        1\n",
              "8        1\n",
              "9        1"
            ],
            "text/html": [
              "\n",
              "\n",
              "  <div id=\"df-95da81c3-01af-451b-a2ff-e7c3afb3581e\">\n",
              "    <div class=\"colab-df-container\">\n",
              "      <div>\n",
              "<style scoped>\n",
              "    .dataframe tbody tr th:only-of-type {\n",
              "        vertical-align: middle;\n",
              "    }\n",
              "\n",
              "    .dataframe tbody tr th {\n",
              "        vertical-align: top;\n",
              "    }\n",
              "\n",
              "    .dataframe thead th {\n",
              "        text-align: right;\n",
              "    }\n",
              "</style>\n",
              "<table border=\"1\" class=\"dataframe\">\n",
              "  <thead>\n",
              "    <tr style=\"text-align: right;\">\n",
              "      <th></th>\n",
              "      <th>dataset</th>\n",
              "    </tr>\n",
              "  </thead>\n",
              "  <tbody>\n",
              "    <tr>\n",
              "      <th>0</th>\n",
              "      <td>0</td>\n",
              "    </tr>\n",
              "    <tr>\n",
              "      <th>1</th>\n",
              "      <td>0</td>\n",
              "    </tr>\n",
              "    <tr>\n",
              "      <th>2</th>\n",
              "      <td>0</td>\n",
              "    </tr>\n",
              "    <tr>\n",
              "      <th>3</th>\n",
              "      <td>0</td>\n",
              "    </tr>\n",
              "    <tr>\n",
              "      <th>4</th>\n",
              "      <td>0</td>\n",
              "    </tr>\n",
              "    <tr>\n",
              "      <th>5</th>\n",
              "      <td>1</td>\n",
              "    </tr>\n",
              "    <tr>\n",
              "      <th>6</th>\n",
              "      <td>1</td>\n",
              "    </tr>\n",
              "    <tr>\n",
              "      <th>7</th>\n",
              "      <td>1</td>\n",
              "    </tr>\n",
              "    <tr>\n",
              "      <th>8</th>\n",
              "      <td>1</td>\n",
              "    </tr>\n",
              "    <tr>\n",
              "      <th>9</th>\n",
              "      <td>1</td>\n",
              "    </tr>\n",
              "  </tbody>\n",
              "</table>\n",
              "</div>\n",
              "      <button class=\"colab-df-convert\" onclick=\"convertToInteractive('df-95da81c3-01af-451b-a2ff-e7c3afb3581e')\"\n",
              "              title=\"Convert this dataframe to an interactive table.\"\n",
              "              style=\"display:none;\">\n",
              "\n",
              "  <svg xmlns=\"http://www.w3.org/2000/svg\" height=\"24px\"viewBox=\"0 0 24 24\"\n",
              "       width=\"24px\">\n",
              "    <path d=\"M0 0h24v24H0V0z\" fill=\"none\"/>\n",
              "    <path d=\"M18.56 5.44l.94 2.06.94-2.06 2.06-.94-2.06-.94-.94-2.06-.94 2.06-2.06.94zm-11 1L8.5 8.5l.94-2.06 2.06-.94-2.06-.94L8.5 2.5l-.94 2.06-2.06.94zm10 10l.94 2.06.94-2.06 2.06-.94-2.06-.94-.94-2.06-.94 2.06-2.06.94z\"/><path d=\"M17.41 7.96l-1.37-1.37c-.4-.4-.92-.59-1.43-.59-.52 0-1.04.2-1.43.59L10.3 9.45l-7.72 7.72c-.78.78-.78 2.05 0 2.83L4 21.41c.39.39.9.59 1.41.59.51 0 1.02-.2 1.41-.59l7.78-7.78 2.81-2.81c.8-.78.8-2.07 0-2.86zM5.41 20L4 18.59l7.72-7.72 1.47 1.35L5.41 20z\"/>\n",
              "  </svg>\n",
              "      </button>\n",
              "\n",
              "\n",
              "\n",
              "    <div id=\"df-ab4b7acd-2612-493a-8a9e-a94e8beccd15\">\n",
              "      <button class=\"colab-df-quickchart\" onclick=\"quickchart('df-ab4b7acd-2612-493a-8a9e-a94e8beccd15')\"\n",
              "              title=\"Suggest charts.\"\n",
              "              style=\"display:none;\">\n",
              "\n",
              "<svg xmlns=\"http://www.w3.org/2000/svg\" height=\"24px\"viewBox=\"0 0 24 24\"\n",
              "     width=\"24px\">\n",
              "    <g>\n",
              "        <path d=\"M19 3H5c-1.1 0-2 .9-2 2v14c0 1.1.9 2 2 2h14c1.1 0 2-.9 2-2V5c0-1.1-.9-2-2-2zM9 17H7v-7h2v7zm4 0h-2V7h2v10zm4 0h-2v-4h2v4z\"/>\n",
              "    </g>\n",
              "</svg>\n",
              "      </button>\n",
              "    </div>\n",
              "\n",
              "<style>\n",
              "  .colab-df-quickchart {\n",
              "    background-color: #E8F0FE;\n",
              "    border: none;\n",
              "    border-radius: 50%;\n",
              "    cursor: pointer;\n",
              "    display: none;\n",
              "    fill: #1967D2;\n",
              "    height: 32px;\n",
              "    padding: 0 0 0 0;\n",
              "    width: 32px;\n",
              "  }\n",
              "\n",
              "  .colab-df-quickchart:hover {\n",
              "    background-color: #E2EBFA;\n",
              "    box-shadow: 0px 1px 2px rgba(60, 64, 67, 0.3), 0px 1px 3px 1px rgba(60, 64, 67, 0.15);\n",
              "    fill: #174EA6;\n",
              "  }\n",
              "\n",
              "  [theme=dark] .colab-df-quickchart {\n",
              "    background-color: #3B4455;\n",
              "    fill: #D2E3FC;\n",
              "  }\n",
              "\n",
              "  [theme=dark] .colab-df-quickchart:hover {\n",
              "    background-color: #434B5C;\n",
              "    box-shadow: 0px 1px 3px 1px rgba(0, 0, 0, 0.15);\n",
              "    filter: drop-shadow(0px 1px 2px rgba(0, 0, 0, 0.3));\n",
              "    fill: #FFFFFF;\n",
              "  }\n",
              "</style>\n",
              "\n",
              "    <script>\n",
              "      async function quickchart(key) {\n",
              "        const containerElement = document.querySelector('#' + key);\n",
              "        const charts = await google.colab.kernel.invokeFunction(\n",
              "            'suggestCharts', [key], {});\n",
              "      }\n",
              "    </script>\n",
              "\n",
              "      <script>\n",
              "\n",
              "function displayQuickchartButton(domScope) {\n",
              "  let quickchartButtonEl =\n",
              "    domScope.querySelector('#df-ab4b7acd-2612-493a-8a9e-a94e8beccd15 button.colab-df-quickchart');\n",
              "  quickchartButtonEl.style.display =\n",
              "    google.colab.kernel.accessAllowed ? 'block' : 'none';\n",
              "}\n",
              "\n",
              "        displayQuickchartButton(document);\n",
              "      </script>\n",
              "      <style>\n",
              "    .colab-df-container {\n",
              "      display:flex;\n",
              "      flex-wrap:wrap;\n",
              "      gap: 12px;\n",
              "    }\n",
              "\n",
              "    .colab-df-convert {\n",
              "      background-color: #E8F0FE;\n",
              "      border: none;\n",
              "      border-radius: 50%;\n",
              "      cursor: pointer;\n",
              "      display: none;\n",
              "      fill: #1967D2;\n",
              "      height: 32px;\n",
              "      padding: 0 0 0 0;\n",
              "      width: 32px;\n",
              "    }\n",
              "\n",
              "    .colab-df-convert:hover {\n",
              "      background-color: #E2EBFA;\n",
              "      box-shadow: 0px 1px 2px rgba(60, 64, 67, 0.3), 0px 1px 3px 1px rgba(60, 64, 67, 0.15);\n",
              "      fill: #174EA6;\n",
              "    }\n",
              "\n",
              "    [theme=dark] .colab-df-convert {\n",
              "      background-color: #3B4455;\n",
              "      fill: #D2E3FC;\n",
              "    }\n",
              "\n",
              "    [theme=dark] .colab-df-convert:hover {\n",
              "      background-color: #434B5C;\n",
              "      box-shadow: 0px 1px 3px 1px rgba(0, 0, 0, 0.15);\n",
              "      filter: drop-shadow(0px 1px 2px rgba(0, 0, 0, 0.3));\n",
              "      fill: #FFFFFF;\n",
              "    }\n",
              "  </style>\n",
              "\n",
              "      <script>\n",
              "        const buttonEl =\n",
              "          document.querySelector('#df-95da81c3-01af-451b-a2ff-e7c3afb3581e button.colab-df-convert');\n",
              "        buttonEl.style.display =\n",
              "          google.colab.kernel.accessAllowed ? 'block' : 'none';\n",
              "\n",
              "        async function convertToInteractive(key) {\n",
              "          const element = document.querySelector('#df-95da81c3-01af-451b-a2ff-e7c3afb3581e');\n",
              "          const dataTable =\n",
              "            await google.colab.kernel.invokeFunction('convertToInteractive',\n",
              "                                                     [key], {});\n",
              "          if (!dataTable) return;\n",
              "\n",
              "          const docLinkHtml = 'Like what you see? Visit the ' +\n",
              "            '<a target=\"_blank\" href=https://colab.research.google.com/notebooks/data_table.ipynb>data table notebook</a>'\n",
              "            + ' to learn more about interactive tables.';\n",
              "          element.innerHTML = '';\n",
              "          dataTable['output_type'] = 'display_data';\n",
              "          await google.colab.output.renderOutput(dataTable, element);\n",
              "          const docLink = document.createElement('div');\n",
              "          docLink.innerHTML = docLinkHtml;\n",
              "          element.appendChild(docLink);\n",
              "        }\n",
              "      </script>\n",
              "    </div>\n",
              "  </div>\n"
            ]
          },
          "metadata": {},
          "execution_count": 41
        }
      ]
    },
    {
      "cell_type": "code",
      "source": [
        "import seaborn as sns\n",
        "\n",
        "# Assuming features_df is your DataFrame of shape (140, 9) and labels_df is your DataFrame of shape (140, 1)\n",
        "features_df = point_could_features\n",
        "labels_df = point_could_labels\n",
        "\n",
        "# Combine the features and labels\n",
        "data_with_labels = pd.concat([features_df, labels_df], axis=1)\n",
        "data_with_labels.columns = list(features_df.columns) + ['label']\n",
        "\n",
        "# Fit UMAP\n",
        "reducer = umap.UMAP()\n",
        "embedding = reducer.fit_transform(features_df)\n",
        "\n",
        "# Create a DataFrame with the UMAP results\n",
        "umap_df = pd.DataFrame(embedding, columns=['UMAP1', 'UMAP2'])\n",
        "umap_df['label'] = labels_df.values\n",
        "\n",
        "# Plot the UMAP results\n",
        "plt.figure(figsize=[10,8])\n",
        "sns.scatterplot(x='UMAP1', y='UMAP2', hue='label', data=umap_df, palette='Spectral', s=60)\n",
        "plt.title('UMAP Projection')\n",
        "plt.show()"
      ],
      "metadata": {
        "colab": {
          "base_uri": "https://localhost:8080/",
          "height": 718
        },
        "id": "SjLsmDwofmpS",
        "outputId": "61a442a9-b166-4587-daf9-2a95bd9313d6"
      },
      "execution_count": 62,
      "outputs": [
        {
          "output_type": "display_data",
          "data": {
            "text/plain": [
              "<Figure size 1000x800 with 1 Axes>"
            ],
            "image/png": "[encoded data removed]"
          },
          "metadata": {}
        }
      ]
    },
    {
      "cell_type": "code",
      "source": [
        "import matplotlib.pyplot as plt\n",
        "from sklearn.preprocessing import LabelEncoder\n",
        "from mpl_toolkits.mplot3d import Axes3D\n",
        "\n",
        "# Assuming features_df is your DataFrame of shape (140, 9) and labels_df is your DataFrame of shape (140, 1)\n",
        "features_df = point_could_features\n",
        "labels_df = point_could_labels\n",
        "\n",
        "# Assuming features_df and labels_df are already defined\n",
        "features = features_df.values\n",
        "labels = labels_df.values.ravel()\n",
        "\n",
        "# Encode the labels as integers\n",
        "encoder = LabelEncoder()\n",
        "encoded_labels = encoder.fit_transform(labels)\n",
        "\n",
        "# Map the encoded labels back to original labels\n",
        "label_mapping = {i: label for i, label in enumerate(encoder.classes_)}\n",
        "\n",
        "# Create UMAP transformer with 3 components for 3D projection\n",
        "umap_transformer = umap.UMAP(n_components=3)\n",
        "\n",
        "# Fit and transform the data\n",
        "umap_embedding = umap_transformer.fit_transform(features)\n",
        "\n",
        "# Create a scatter plot\n",
        "fig = plt.figure()\n",
        "ax = fig.add_subplot(111, projection='3d')\n",
        "scatter = ax.scatter(umap_embedding[:, 0], umap_embedding[:, 1], umap_embedding[:, 2], c=encoded_labels, cmap='viridis')\n",
        "\n",
        "# Add a legend\n",
        "handles = [plt.Line2D([0], [0], marker='o', color='w', markerfacecolor=plt.cm.viridis(i / (len(label_mapping) - 1)), markersize=10) for i in range(len(label_mapping))]\n",
        "ax.legend(handles, label_mapping.values(), title='Labels')\n",
        "\n",
        "plt.colorbar(scatter, ax=ax)\n",
        "plt.title('3D UMAP Projection')\n",
        "plt.show()"
      ],
      "metadata": {
        "colab": {
          "base_uri": "https://localhost:8080/",
          "height": 441
        },
        "id": "5X7EgrsZrl6t",
        "outputId": "ac89b707-ced7-4e36-e129-241c61c1b1eb"
      },
      "execution_count": 49,
      "outputs": [
        {
          "output_type": "display_data",
          "data": {
            "text/plain": [
              "<Figure size 640x480 with 2 Axes>"
            ],
            "image/png": "[encoded data removed]"
          },
          "metadata": {}
        }
      ]
    },
    {
      "cell_type": "code",
      "source": [
        "from scipy.spatial.distance import euclidean\n",
        "import numpy as np\n",
        "\n",
        "# Define cluster and non-cluster instances\n",
        "features_df = point_could_features.copy()\n",
        "labels_df = point_could_labels.copy()\n",
        "\n",
        "mnist_indices = labels_df[labels_df['dataset'] == 'mnist'].index\n",
        "mnist_features = features_df.loc[mnist_indices].values\n",
        "non_cluster_features = features_df.drop(mnist_indices).values\n",
        "test_cluster_features = mnist_val_features.values\n",
        "\n",
        "\n",
        "\n",
        "#cluster_instances = cluster_df.values # Assuming cluster_df is the DataFrame with 20 instances and 9 features\n",
        "#non_cluster_instances = non_cluster_df.values # 150 non-cluster instances\n",
        "\n",
        "# Compute the centroid of the cluster\n",
        "centroid = np.mean(mnist_features, axis=0)\n",
        "\n",
        "# Define a function to classify a point based on distance threshold\n",
        "def classify_point(point, threshold):\n",
        "    distance = euclidean(point, centroid)\n",
        "    return distance > threshold\n",
        "\n",
        "# Find the threshold that maximizes accuracy on non-cluster instances and test_cluster_instances\n",
        "best_accuracy = 0\n",
        "best_threshold = 0\n",
        "for threshold in np.linspace(0, 50, 10000):\n",
        "    # Check non-cluster instances (should be outside the cluster)\n",
        "    non_cluster_predictions = [classify_point(point, threshold) for point in non_cluster_features]\n",
        "    non_cluster_accuracy = sum(non_cluster_predictions) / len(non_cluster_predictions)\n",
        "\n",
        "    # Check test_cluster_instances (should be inside the cluster)\n",
        "    test_cluster_predictions = [not classify_point(point, threshold) for point in test_cluster_features]\n",
        "    test_cluster_accuracy = sum(test_cluster_predictions) / len(test_cluster_predictions)\n",
        "\n",
        "    # Compute overall accuracy\n",
        "    accuracy = (non_cluster_accuracy + test_cluster_accuracy) / 2\n",
        "\n",
        "    if accuracy > best_accuracy:\n",
        "        best_accuracy = accuracy\n",
        "        best_threshold = threshold\n",
        "\n",
        "print(\"Best Threshold:\", best_threshold)\n",
        "print(\"Best Accuracy:\", best_accuracy)"
      ],
      "metadata": {
        "colab": {
          "base_uri": "https://localhost:8080/"
        },
        "id": "H3X_R_xhvt8G",
        "outputId": "de2cd3b7-500a-40ac-c02b-bb0b52e0ebe3"
      },
      "execution_count": null,
      "outputs": [
        {
          "output_type": "stream",
          "name": "stdout",
          "text": [
            "Best Threshold: 10.716071607160716\n",
            "Best Accuracy: 0.9103448275862069\n"
          ]
        }
      ]
    },
    {
      "cell_type": "code",
      "source": [
        "threshold = 10.716071607160716\n",
        "# Check non-cluster instances (should be outside the cluster)\n",
        "non_cluster_predictions = [classify_point(point, threshold) for point in non_cluster_features]\n",
        "non_cluster_accuracy = sum(non_cluster_predictions) / len(non_cluster_predictions)\n",
        "\n",
        "# Check test_cluster_instances (should be inside the cluster)\n",
        "test_cluster_predictions = [not classify_point(point, threshold) for point in test_cluster_features]\n",
        "test_cluster_accuracy = sum(test_cluster_predictions) / len(test_cluster_predictions)\n",
        "\n",
        "print(f'OOD accuracy: {non_cluster_accuracy}')\n",
        "print(f'ID accuracy: {test_cluster_accuracy}')"
      ],
      "metadata": {
        "colab": {
          "base_uri": "https://localhost:8080/"
        },
        "id": "q2bsgtbM477X",
        "outputId": "fbe47df2-0784-49fb-8443-c8ed452395c2"
      },
      "execution_count": null,
      "outputs": [
        {
          "output_type": "stream",
          "name": "stdout",
          "text": [
            "OOD accuracy: 0.8206896551724138\n",
            "ID accuracy: 1.0\n"
          ]
        }
      ]
    },
    {
      "cell_type": "code",
      "source": [
        "# Concatenate the datasets\n",
        "all_data = np.concatenate([mnist_features, non_cluster_features, test_cluster_features])\n",
        "\n",
        "# Apply UMAP to the concatenated data\n",
        "reducer = umap.UMAP(n_components=4)\n",
        "all_data_reduced = reducer.fit_transform(all_data)\n",
        "\n",
        "# Split the reduced data back into the original datasets\n",
        "mnist_features_reduced, non_cluster_features_reduced, test_cluster_features_reduced = np.split(all_data_reduced, [len(mnist_features), len(mnist_features) + len(non_cluster_features)])\n",
        "\n",
        "# Compute the centroid of the cluster\n",
        "centroid = np.mean(mnist_features_reduced, axis=0)\n",
        "\n",
        "# Define a function to classify a point based on distance threshold\n",
        "def classify_point(point, threshold):\n",
        "    distance = euclidean(point, centroid)\n",
        "    return distance > threshold\n",
        "\n",
        "# Find the threshold that maximizes accuracy on non-cluster instances and test_cluster_instances\n",
        "best_accuracy = 0\n",
        "best_threshold = 0\n",
        "for threshold in np.linspace(0, 50, 1000):\n",
        "    # Check non-cluster instances (should be outside the cluster)\n",
        "    non_cluster_predictions = [classify_point(point, threshold) for point in non_cluster_features_reduced]\n",
        "    non_cluster_accuracy = sum(non_cluster_predictions) / len(non_cluster_predictions)\n",
        "\n",
        "    # Check test_cluster_instances (should be inside the cluster)\n",
        "    test_cluster_predictions = [not classify_point(point, threshold) for point in test_cluster_features_reduced]\n",
        "    test_cluster_accuracy = sum(test_cluster_predictions) / len(test_cluster_predictions)\n",
        "\n",
        "    # Compute overall accuracy\n",
        "    accuracy = (non_cluster_accuracy + test_cluster_accuracy) / 2\n",
        "\n",
        "    if accuracy > best_accuracy:\n",
        "        best_accuracy = accuracy\n",
        "        best_threshold = threshold\n",
        "\n",
        "print(\"Best Threshold:\", best_threshold)\n",
        "print(\"Best Accuracy:\", best_accuracy)"
      ],
      "metadata": {
        "colab": {
          "base_uri": "https://localhost:8080/"
        },
        "id": "9zwBbVKP7Slz",
        "outputId": "fb7ae634-ab98-43a0-a36b-fe0bef2b1825"
      },
      "execution_count": null,
      "outputs": [
        {
          "output_type": "stream",
          "name": "stdout",
          "text": [
            "Best Threshold: 12.412412412412413\n",
            "Best Accuracy: 0.9137931034482758\n"
          ]
        }
      ]
    },
    {
      "cell_type": "code",
      "source": [
        "threshold = 12.412412412412413\n",
        "# Check non-cluster instances (should be outside the cluster)\n",
        "non_cluster_predictions = [classify_point(point, threshold) for point in non_cluster_features_reduced]\n",
        "non_cluster_accuracy = sum(non_cluster_predictions) / len(non_cluster_predictions)\n",
        "\n",
        "# Check test_cluster_instances (should be inside the cluster)\n",
        "test_cluster_predictions = [not classify_point(point, threshold) for point in test_cluster_features_reduced]\n",
        "test_cluster_accuracy = sum(test_cluster_predictions) / len(test_cluster_predictions)\n",
        "\n",
        "print(f'OOD accuracy: {non_cluster_accuracy}')\n",
        "print(f'ID accuracy: {test_cluster_accuracy}')"
      ],
      "metadata": {
        "colab": {
          "base_uri": "https://localhost:8080/"
        },
        "id": "Bm_lSZTG7mWV",
        "outputId": "6a6f6441-a406-4a79-b0e1-6cd5629ca8e6"
      },
      "execution_count": null,
      "outputs": [
        {
          "output_type": "stream",
          "name": "stdout",
          "text": [
            "OOD accuracy: 0.8275862068965517\n",
            "ID accuracy: 1.0\n"
          ]
        }
      ]
    }
  ]
}